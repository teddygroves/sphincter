{
 "cells": [
  {
   "cell_type": "markdown",
   "id": "bc70c721-f885-47ff-8728-6bc89b34b45d",
   "metadata": {},
   "source": [
    "# Question 2\n",
    "\n",
    "This notebook investigates the pulsatility data."
   ]
  },
  {
   "cell_type": "markdown",
   "id": "848f46aa-2080-4817-99e4-d7a283d68456",
   "metadata": {},
   "source": [
    "## Load data"
   ]
  },
  {
   "cell_type": "code",
   "execution_count": 1,
   "id": "c356f4c6-0c4f-4667-a01a-d391c665ec7f",
   "metadata": {},
   "outputs": [],
   "source": [
    "import os\n",
    "\n",
    "import arviz as az\n",
    "import matplotlib as mpl\n",
    "import matplotlib.pyplot as plt\n",
    "import numpy as np\n",
    "import pandas as pd\n",
    "\n",
    "from sphincter.data_preparation import load_prepared_data"
   ]
  },
  {
   "cell_type": "code",
   "execution_count": 2,
   "id": "933fd569-b23d-43c4-b221-0e60ac7352e1",
   "metadata": {},
   "outputs": [
    {
     "ename": "FileNotFoundError",
     "evalue": "[Errno 2] No such file or directory: '../data/prepared/pulsatility.json'",
     "output_type": "error",
     "traceback": [
      "\u001b[0;31m---------------------------------------------------------------------------\u001b[0m",
      "\u001b[0;31mFileNotFoundError\u001b[0m                         Traceback (most recent call last)",
      "Cell \u001b[0;32mIn[2], line 3\u001b[0m\n\u001b[1;32m      1\u001b[0m PLOTS_DIR \u001b[38;5;241m=\u001b[39m os\u001b[38;5;241m.\u001b[39mpath\u001b[38;5;241m.\u001b[39mjoin(\u001b[38;5;124m\"\u001b[39m\u001b[38;5;124m..\u001b[39m\u001b[38;5;124m\"\u001b[39m, \u001b[38;5;124m\"\u001b[39m\u001b[38;5;124mplots\u001b[39m\u001b[38;5;124m\"\u001b[39m)\n\u001b[0;32m----> 3\u001b[0m full_data \u001b[38;5;241m=\u001b[39m \u001b[43mload_prepared_data\u001b[49m\u001b[43m(\u001b[49m\u001b[38;5;124;43m\"\u001b[39;49m\u001b[38;5;124;43m../data/prepared/pulsatility.json\u001b[39;49m\u001b[38;5;124;43m\"\u001b[39;49m\u001b[43m)\u001b[49m\n\u001b[1;32m      4\u001b[0m no_hyper_data \u001b[38;5;241m=\u001b[39m load_prepared_data(\u001b[38;5;124m\"\u001b[39m\u001b[38;5;124m../data/prepared/pulsatility-no-hyper.json\u001b[39m\u001b[38;5;124m\"\u001b[39m)\n\u001b[1;32m      6\u001b[0m mts, mts_full \u001b[38;5;241m=\u001b[39m no_hyper_data\u001b[38;5;241m.\u001b[39mmeasurements, full_data\u001b[38;5;241m.\u001b[39mmeasurements\n",
      "File \u001b[0;32m~/repos/teddygroves/sphincter/sphincter/data_preparation.py:337\u001b[0m, in \u001b[0;36mload_prepared_data\u001b[0;34m(path_to_data)\u001b[0m\n\u001b[1;32m    334\u001b[0m \u001b[38;5;28;01mdef\u001b[39;00m \u001b[38;5;21mload_prepared_data\u001b[39m(\n\u001b[1;32m    335\u001b[0m     path_to_data: \u001b[38;5;28mstr\u001b[39m,\n\u001b[1;32m    336\u001b[0m ) \u001b[38;5;241m-\u001b[39m\u001b[38;5;241m>\u001b[39m Union[WhiskerDataset, PulsatilityDataset]:\n\u001b[0;32m--> 337\u001b[0m     \u001b[38;5;28;01mwith\u001b[39;00m \u001b[38;5;28;43mopen\u001b[39;49m\u001b[43m(\u001b[49m\u001b[43mpath_to_data\u001b[49m\u001b[43m)\u001b[49m \u001b[38;5;28;01mas\u001b[39;00m f:\n\u001b[1;32m    338\u001b[0m         raw \u001b[38;5;241m=\u001b[39m json\u001b[38;5;241m.\u001b[39mload(f)\n\u001b[1;32m    339\u001b[0m     \u001b[38;5;28;01mif\u001b[39;00m raw[\u001b[38;5;124m\"\u001b[39m\u001b[38;5;124mname\u001b[39m\u001b[38;5;124m\"\u001b[39m]\u001b[38;5;241m.\u001b[39mstartswith(\u001b[38;5;124m\"\u001b[39m\u001b[38;5;124mwhisker\u001b[39m\u001b[38;5;124m\"\u001b[39m):\n",
      "\u001b[0;31mFileNotFoundError\u001b[0m: [Errno 2] No such file or directory: '../data/prepared/pulsatility.json'"
     ]
    }
   ],
   "source": [
    "PLOTS_DIR = os.path.join(\"..\", \"plots\")\n",
    "\n",
    "full_data = load_prepared_data(\"../data/prepared/pulsatility.json\")\n",
    "no_hyper_data = load_prepared_data(\"../data/prepared/pulsatility-no-hyper.json\")\n",
    "\n",
    "mts, mts_full = no_hyper_data.measurements, full_data.measurements"
   ]
  },
  {
   "cell_type": "code",
   "execution_count": null,
   "id": "3732e52d-4035-4ac8-8c45-0775a88b42de",
   "metadata": {},
   "outputs": [],
   "source": [
    "raw = pd.read_csv(\"../data/raw/data_sphincter_paper.csv\")"
   ]
  },
  {
   "cell_type": "markdown",
   "id": "acbd80d4-93ec-4fa3-9032-821ed07c7180",
   "metadata": {},
   "source": [
    "## Plot measurements"
   ]
  },
  {
   "cell_type": "markdown",
   "id": "21ab6cb7-41a8-4100-a4e1-2605b43d6c94",
   "metadata": {},
   "source": [
    "The next cell plots the full dataset"
   ]
  },
  {
   "cell_type": "code",
   "execution_count": null,
   "id": "058c433a-ff7f-41fa-9984-279e6347699a",
   "metadata": {},
   "outputs": [],
   "source": [
    "def plot_obs_cat(ax, obs, catcol, cmap, extra_obs=None, **scatter_kwargs):\n",
    "    colors = list(cmap.colors)\n",
    "    d_dict = {\"obs\": obs, \"cat\": catcol}\n",
    "    if extra_obs is not None:\n",
    "        d_dict[\"extra\"] = extra_obs\n",
    "    d = pd.DataFrame(d_dict).sort_values(\"cat\").assign(x=np.linspace(0, 1, len(obs)))\n",
    "    scts = []\n",
    "    for i, (cat, subdf) in enumerate(d.groupby(\"cat\", observed=True)):\n",
    "        color = colors[i % len(colors)]\n",
    "        scts.append(ax.scatter(subdf[\"x\"], subdf[\"obs\"], label=cat, color=color, **scatter_kwargs))\n",
    "        if extra_obs is not None:\n",
    "            scts.append(ax.scatter(subdf[\"x\"], subdf[\"extra\"], marker=\"x\", label=extra_obs.name, color=\"black\"))            \n",
    "    return scts\n",
    "\n",
    "\n",
    "\n",
    "obs = mts_full[\"pd1\"]\n",
    "cmap = mpl.colormaps[\"Set2\"]\n",
    "\n",
    "f, axes = plt.subplots(2, 2, figsize=[14, 8], sharey=True)\n",
    "axes = axes.ravel()\n",
    "for (i, ax), col in zip(enumerate(axes), [\"treatment\", \"age\", \"vessel_type\", \"mouse\"]):\n",
    "    catcol = mts_full[col]\n",
    "    sct = plot_obs_cat(ax, obs, catcol, cmap)\n",
    "    if col != \"mouse\":\n",
    "        ax.legend(frameon=False);\n",
    "    if i % 2 == 0:\n",
    "        ax.set_ylabel(\"pd1\");\n",
    "    ax.set_xticks([])\n",
    "    ax.set_title(col.capitalize())\n",
    "    ax.semilogy()\n",
    "f.suptitle(\"Diameter pulsatility measurements (first harmonic)\");\n",
    "f.tight_layout()\n",
    "\n",
    "obs = mts_full[\"pc1\"]\n",
    "cmap = mpl.colormaps[\"Set2\"]\n",
    "\n",
    "f, axes = plt.subplots(2, 2, figsize=[14, 8], sharey=True)\n",
    "axes = axes.ravel()\n",
    "for (i, ax), col in zip(enumerate(axes), [\"treatment\", \"age\", \"vessel_type\", \"mouse\"]):\n",
    "    catcol = mts_full[col]\n",
    "    sct = plot_obs_cat(ax, obs, catcol, cmap)\n",
    "    if col != \"mouse\":\n",
    "        ax.legend(frameon=False);\n",
    "    if i % 2 == 0:\n",
    "        ax.set_ylabel(\"pd1\");\n",
    "    ax.set_xticks([])\n",
    "    ax.set_title(col.capitalize())\n",
    "    ax.semilogy()\n",
    "f.suptitle(\"Center pulsatility measurements (first harmonic)\");\n",
    "f.tight_layout()"
   ]
  },
  {
   "cell_type": "markdown",
   "id": "df12345c-acee-4d36-bd32-57794feeaeb0",
   "metadata": {},
   "source": [
    "In order to go one step at a time I'm going to first look at the data excluding the hypertension case. \n",
    "\n",
    "Here's the same plot for this reduced dataset."
   ]
  },
  {
   "cell_type": "code",
   "execution_count": null,
   "id": "cffdb2ef-5d75-4396-8b02-cda2a9985c82",
   "metadata": {},
   "outputs": [],
   "source": [
    "obs = mts[\"pd1\"]\n",
    "cmap = mpl.colormaps[\"Set2\"]\n",
    "\n",
    "f, axes = plt.subplots(2, 2, figsize=[14, 8], sharey=True)\n",
    "axes = axes.ravel()\n",
    "for (i, ax), col in zip(enumerate(axes), [\"treatment\", \"age\", \"vessel_type\", \"mouse\"]):\n",
    "    catcol = mts[col]\n",
    "    sct = plot_obs_cat(ax, obs, catcol, cmap)\n",
    "    if col != \"mouse\":\n",
    "        ax.legend(frameon=False);\n",
    "    if i % 2 == 0:\n",
    "        ax.set_ylabel(\"pd1\");\n",
    "    ax.set_xticks([])\n",
    "    ax.set_title(col.capitalize())\n",
    "    ax.semilogy()\n",
    "f.suptitle(\"Diameter pulsatility measurements (first harmonic)\");\n",
    "f.tight_layout()\n",
    "f.savefig(os.path.join(PLOTS_DIR, \"pulsatility-diameter-measurements.png\"), bbox_inches=\"tight\")\n",
    "\n",
    "obs = mts[\"pc1\"]\n",
    "cmap = mpl.colormaps[\"Set2\"]\n",
    "\n",
    "f, axes = plt.subplots(2, 2, figsize=[14, 8], sharey=True)\n",
    "axes = axes.ravel()\n",
    "for (i, ax), col in zip(enumerate(axes), [\"treatment\", \"age\", \"vessel_type\", \"mouse\"]):\n",
    "    catcol = mts[col]\n",
    "    sct = plot_obs_cat(ax, obs, catcol, cmap)\n",
    "    if col != \"mouse\":\n",
    "        ax.legend(frameon=False);\n",
    "    if i % 2 == 0:\n",
    "        ax.set_ylabel(\"pd1\");\n",
    "    ax.set_xticks([])\n",
    "    ax.set_title(col.capitalize())\n",
    "    ax.semilogy()\n",
    "f.suptitle(\"Diameter pulsatility measurements (first harmonic)\");\n",
    "f.tight_layout()\n",
    "f.savefig(os.path.join(PLOTS_DIR, \"pulsatility-center-measurements.png\"), bbox_inches=\"tight\")"
   ]
  },
  {
   "cell_type": "markdown",
   "id": "12fad5d2-631e-49e5-b0f3-d88dee71c6cf",
   "metadata": {},
   "source": [
    "There is a clear pattern for the diameter power harmonics to get lower with the order of the vessel.\n",
    "\n",
    "The treatment regime seems to make the diameter measurements closer together and somewhat higher.\n",
    "\n",
    "The center power harmonics have an interesting cluster: one old mice seems to have had consistently high measurements.\n",
    "\n",
    "The next cell gets that mouse's id and displays all of its center power harmonic measurements.\n"
   ]
  },
  {
   "cell_type": "code",
   "execution_count": null,
   "id": "a951479a-045f-4d7a-9d5c-c12407c1cf3d",
   "metadata": {},
   "outputs": [],
   "source": [
    "mts.loc[\n",
    "    lambda df: df[\"mouse\"] == mts.groupby(\"mouse\", observed=True)[\"pc1\"].max().idxmax(),\n",
    "    [\"age\", \"mouse\", \"vessel_type\", \"pd1\", \"pc1\", \"pressure_d\"]\n",
    "]"
   ]
  },
  {
   "cell_type": "markdown",
   "id": "a5e9a4ca-d552-444b-a0b6-a9b1f5c014f5",
   "metadata": {},
   "source": [
    "There is also a blood pressure measurement for each datapoint. The next plot shows that there isn't an obvious correlation between pressure and our measurements.\n",
    "\n",
    "NOTE: try coarsening the data by binning."
   ]
  },
  {
   "cell_type": "code",
   "execution_count": null,
   "id": "59e7838e-f595-49fe-a57c-95568ebde65f",
   "metadata": {},
   "outputs": [],
   "source": [
    "f, axes = plt.subplots(1, 2, figsize=[15, 5]);\n",
    "\n",
    "col = \"pressure_d\"\n",
    "groupcol = \"age\"\n",
    "\n",
    "\n",
    "def plots_with_bins_and_groups(axes, mts, col, groupcol):\n",
    "    for ax, ycol in zip(axes, [\"pd1\", \"pc1\"]):\n",
    "        for treatment, subdf in mts.dropna(subset=col).groupby(groupcol, observed=True):\n",
    "            bins = pd.qcut(subdf[col], 5)\n",
    "            coarse = subdf.groupby(bins, observed=True)[[col, ycol]].mean()\n",
    "            sct = ax.scatter(subdf[col], subdf[ycol], label=treatment, alpha=0.2);\n",
    "            ax.scatter(\n",
    "                coarse[col], \n",
    "                coarse[ycol], \n",
    "                marker=\"o\", \n",
    "                label=treatment + \" coarse\", \n",
    "                color=sct.get_facecolor(),\n",
    "                alpha=1,\n",
    "                s=50\n",
    "            );\n",
    "        ax.legend(frameon=False)\n",
    "        ax.semilogy();\n",
    "        ax.set(title=ycol, xlabel=col, ylabel=ycol);\n",
    "        # ax.semilogx();\n",
    "    return axes\n",
    "\n",
    "plots_with_bins_and_groups(axes, mts, col, groupcol);\n",
    "f.suptitle(\"Pressure and age vs pulsatility measurements\");\n",
    "f.savefig(os.path.join(PLOTS_DIR, \"pressure-data.png\"), bbox_inches=\"tight\")"
   ]
  },
  {
   "cell_type": "code",
   "execution_count": null,
   "id": "8285a588-b726-4060-90f0-6db67c341fe8",
   "metadata": {},
   "outputs": [],
   "source": [
    "f, axes = plt.subplots(1, 2, figsize=[15, 5])\n",
    "\n",
    "plots_with_bins_and_groups(axes, mts, \"diameter\", \"vessel_type\");\n",
    "axes[0].semilogx();\n",
    "f.savefig(os.path.join(PLOTS_DIR, \"pulsatility-diameter-data.png\"), bbox_inches=\"tight\")"
   ]
  },
  {
   "cell_type": "code",
   "execution_count": null,
   "id": "0c759a95-9403-4b04-b1f4-cd289ce8145a",
   "metadata": {},
   "outputs": [],
   "source": [
    "mts.groupby([\"age\", \"vessel_type\"], observed=True)[\"diameter\"].mean().unstack(\"age\").plot();"
   ]
  },
  {
   "cell_type": "markdown",
   "id": "0683e18d-fcac-4344-8ae4-4f779853d642",
   "metadata": {},
   "source": [
    "There are no measurements beyond cap1 for the hyper or hyper2 treatments:"
   ]
  },
  {
   "cell_type": "code",
   "execution_count": null,
   "id": "b55a9ffe-f723-42ba-8542-266cfc17b829",
   "metadata": {},
   "outputs": [],
   "source": [
    "mts_full.groupby([\"treatment\", \"vessel_type\"], observed=True).size().unstack()"
   ]
  },
  {
   "cell_type": "markdown",
   "id": "5079a584-af15-46ce-9edb-ca8cd083b742",
   "metadata": {},
   "source": [
    "## Speed\n",
    "\n",
    "Where possible,  the speed of red blood cells through the vessels was also measured.\n",
    "\n",
    "The next few cells look at how many speed measurements are available, how speed is distributed depending on age and vessel type, and how measured speed is related to pulsatility."
   ]
  },
  {
   "cell_type": "code",
   "execution_count": null,
   "id": "6041e38d-114b-47b9-b153-5f9ee61eb6cc",
   "metadata": {},
   "outputs": [],
   "source": [
    "pd.DataFrame(\n",
    "    {\n",
    "        \"measurements with speed\": mts.groupby([\"vessel_type\"], observed=True)[\"speed\"].count(), \n",
    "        \"total measurements\": mts.groupby(\"vessel_type\", observed=True).size(),\n",
    "        \"mean speed\": mts.groupby(\"vessel_type\", observed=True)[\"speed\"].mean(),\n",
    "    }\n",
    ")"
   ]
  },
  {
   "cell_type": "code",
   "execution_count": null,
   "id": "8b430534-c75c-4325-9981-895a4030aadb",
   "metadata": {},
   "outputs": [],
   "source": [
    "f, axes = plt.subplots(2, 3, figsize=[15, 10], sharex=True, sharey=True)\n",
    "axes = axes.ravel()\n",
    "bins=np.linspace(mts[\"speed\"].min(), mts[\"speed\"].max(), 10)\n",
    "\n",
    "for ax, (vt, subdf) in zip(axes, mts.dropna(subset=\"speed\").groupby([\"vessel_type\"], observed=True)):\n",
    "    ax.grid(alpha=0.5)\n",
    "    for t, subsubdf in subdf.groupby(\"age\", observed=True):\n",
    "        ax.hist(subsubdf[\"speed\"], alpha=0.5, bins=bins, label=t, stacked=True);\n",
    "    ax.set_axisbelow(True)\n",
    "    ax.set(title=vt[0])\n",
    "    ax.legend(frameon=False)\n",
    "for ix in [0, 3]:\n",
    "    axes[ix].set_ylabel(\"Count\")\n",
    "for ix in [3, 4, 5]:\n",
    "    axes[ix].set_xlabel(\"Speed\")\n",
    "f.suptitle(\"Distribution of measured red blood cell speeds for each vessel type\", y=0.95);"
   ]
  },
  {
   "cell_type": "code",
   "execution_count": null,
   "id": "b5d34f1a-38e3-49ed-be4d-1b11c8654d51",
   "metadata": {},
   "outputs": [],
   "source": [
    "f, axes = plt.subplots(1, 2, figsize=[15, 5])\n",
    "plots_with_bins_and_groups(axes, mts, \"speed\", \"vessel_type\");\n",
    "axes[0].semilogx();\n",
    "axes[1].semilogx();"
   ]
  },
  {
   "cell_type": "markdown",
   "id": "f6ff7b74-0583-45de-aaea-52b428110d57",
   "metadata": {},
   "source": [
    "## Models\n",
    "\n",
    "The first model I fit to this dataset predicts diameter and center power harmonics independently and in the same way, using the sum of four (also independent) parameters: an intercept $\\mu$, an age effect $\\alpha^{age}$ a treatment effect $\\alpha^{treatment}$ and a vessel type effect $\\alpha^{vessel\\ type}$. The model creates a linear predictor out of these parameters for each measurement and fits it using an exponential GLM.\n",
    "\n",
    "I called this model the \"basic\" model.\n",
    "\n",
    "The next cell loads the results of fitting the basic model and runs a diagnostic to estimate its out of sample predictive performance. The main output metric (`elpd_loo`) is in principle absolute, representing the estimated total out of sample log likelihood under leave-one-out cross validation. However, this doesn't mean too much in isolation as it isn't clear in advance what would be a good without another model to compare with. Still, the fact that the check runs without warnings is a good sign, indicating that there weren't many very influential observations."
   ]
  },
  {
   "cell_type": "code",
   "execution_count": null,
   "id": "b31a3b25-ec10-4f74-9402-1f965982ebc4",
   "metadata": {},
   "outputs": [],
   "source": [
    "idatas = {\n",
    "    \"pulsatility-basic\": az.InferenceData.from_zarr(os.path.join(\"..\", \"inferences\", \"pulsatility-basic\", \"idata\")),\n",
    "    \"pulsatility-interaction\": az.InferenceData.from_zarr(os.path.join(\"..\", \"inferences\", \"pulsatility-interaction\", \"idata\")),\n",
    "    \"pulsatility-pressure\": az.InferenceData.from_zarr(os.path.join(\"..\", \"inferences\", \"pulsatility-pressure\", \"idata\")),\n",
    "    \"pulsatility-pressure-no-age\": az.InferenceData.from_zarr(os.path.join(\"..\", \"inferences\", \"pulsatility-pressure-no-age\", \"idata\"))\n",
    "}\n",
    "cmp = az.compare(idatas)\n",
    "cmp"
   ]
  },
  {
   "cell_type": "code",
   "execution_count": null,
   "id": "dede2474-fbb1-4f64-905f-bad10d1db91b",
   "metadata": {},
   "outputs": [],
   "source": [
    "for name, idata in idatas.items():\n",
    "    print(f\"Number of diverging transitions for {name} model: \" +  str(idata.sample_stats.diverging.values.sum()))"
   ]
  },
  {
   "cell_type": "code",
   "execution_count": null,
   "id": "fe218a04-54c7-407c-a0d8-076046ca0eb9",
   "metadata": {},
   "outputs": [],
   "source": [
    "loo = az.loo(idatas[\"pulsatility-pressure\"], pointwise=True)\n",
    "loo"
   ]
  },
  {
   "cell_type": "code",
   "execution_count": null,
   "id": "262d8507-e341-4210-9c6b-84f19264685b",
   "metadata": {},
   "outputs": [],
   "source": [
    "f, ax = plt.subplots()\n",
    "az.plot_compare(cmp, insample_dev=True, ax=ax, plot_standard_error=False);\n",
    "f.savefig(os.path.join(PLOTS_DIR, \"pulsatility-elpd-comparison.png\"), bbox_inches=\"tight\")"
   ]
  },
  {
   "cell_type": "markdown",
   "id": "4ac2a9bf-a75b-4369-bac9-c38bb7f65ac5",
   "metadata": {},
   "source": [
    "The next cell plots the marginal distributions of the basic model's main parameters."
   ]
  },
  {
   "cell_type": "code",
   "execution_count": null,
   "id": "309be130-442e-4401-9d24-e2b7bbb93871",
   "metadata": {},
   "outputs": [],
   "source": [
    "vars = [\"tau_vessel_type\", \"tau_treatment\", \"mu\", \"a_vessel_type\", \"a_treatment\", \"b_pressure\", \"b_diameter\"]\n",
    "f, axes = plt.subplots(1, 2, figsize=[15, 10], sharex=True)\n",
    "for ax, mt in zip(axes, [\"diameter\", \"center\"]):\n",
    "    az.plot_forest(\n",
    "        [idatas[\"pulsatility-basic\"], idatas[\"pulsatility-interaction\"], idatas[\"pulsatility-pressure\"], idatas[\"pulsatility-pressure-no-age\"]],\n",
    "        model_names=[\"basic\", \"interaction\", \"pressure\", \"pressure-no-age\"], \n",
    "        combined=True, \n",
    "        ax=ax,\n",
    "        var_names=vars,\n",
    "        coords={\"measurement_type\": mt}\n",
    "    );\n",
    "    ax.axvline(0, color=\"black\")\n",
    "    ax.set(title=mt.capitalize())\n",
    "f.tight_layout()\n",
    "f.suptitle(\"Shared effects\")\n",
    "f.savefig(os.path.join(PLOTS_DIR, \"pulsatility-effects.png\"), bbox_inches=\"tight\")"
   ]
  },
  {
   "cell_type": "code",
   "execution_count": null,
   "id": "bd1d00af-ae74-4d31-9eaf-6fe7f1288e0c",
   "metadata": {},
   "outputs": [],
   "source": [
    "vars = [\"a_age_treatment\", \"a_age_treatment_vessel_type\"]\n",
    "f, axes = plt.subplots(1, 2, figsize=[15, 10], sharex=True)\n",
    "for ax, mt in zip(axes, [\"diameter\", \"center\"]):\n",
    "    az.plot_forest(idatas[\"pulsatility-interaction\"], combined=True, ax=ax, var_names=vars, coords={\"measurement_type\": mt});\n",
    "    ax.axvline(0, color=\"black\")\n",
    "    ax.set(title=mt.capitalize())\n",
    "f.suptitle(\"Interaction model unique effect distributions\")\n",
    "f.tight_layout()\n",
    "f.savefig(os.path.join(PLOTS_DIR, \"pulsatility-interaction-effects.png\"), bbox_inches=\"tight\")"
   ]
  },
  {
   "cell_type": "markdown",
   "id": "cdd8533b-6713-4b39-9034-5c853d6d2ee3",
   "metadata": {},
   "source": [
    "The next cell does a posterior predictive check, comparing measurements simulated using the model with the actually realised observations.\n",
    "\n",
    "This shows an overall fairly good fit, though there are quite a few extreme center measurements that the model can't capture, and it seems to underfit for some mice as a result."
   ]
  },
  {
   "cell_type": "code",
   "execution_count": null,
   "id": "2d1dac17-bb31-4d97-9fcd-c700068ad9bd",
   "metadata": {},
   "outputs": [],
   "source": [
    "def plot_lines_cat(ax, yrep, catcol, cmap, **vlines_kwargs):\n",
    "    colors = list(cmap.colors)\n",
    "    d = pd.DataFrame(\n",
    "        {\n",
    "            \"cat\": catcol,\n",
    "            \"q1\": yrep.quantile(0.01, dim=[\"chain\", \"draw\"]).values,\n",
    "            \"q99\": yrep.quantile(0.99, dim=[\"chain\", \"draw\"]).values,\n",
    "        }\n",
    "    ).sort_values(\"cat\").assign(x=np.linspace(0, 1, len(catcol)))\n",
    "    linesets = []\n",
    "    for i, (cat, subdf) in enumerate(d.groupby(\"cat\", observed=True)):\n",
    "        lines = ax.vlines(subdf[\"x\"], subdf[\"q1\"], subdf[\"q99\"], color=\"gainsboro\", **vlines_kwargs)\n",
    "    return lines\n",
    "\n",
    "def plot_ppc(axes, mts, obs, yrep, cmap):\n",
    "    for (i, ax), col in zip(enumerate(axes), [\"treatment\", \"age\", \"vessel_type\", \"mouse\"]):\n",
    "        catcol = mts[col].cat.remove_unused_categories()\n",
    "        scts = plot_obs_cat(ax, obs, catcol, cmap)\n",
    "        lines = plot_lines_cat(ax, yrep, catcol, cmap, zorder=0, label=\"model\")\n",
    "        if col != \"mouse\":\n",
    "            ax.legend(scts + [lines], list(catcol.cat.categories) + [\"model\"], frameon=False, bbox_to_anchor=[1,0.5], loc=\"center left\");\n",
    "        if i % 2 == 0:\n",
    "            ax.set_ylabel(\"pd1\");\n",
    "        ax.set_xticks([])\n",
    "        ax.set_title(col.capitalize())\n",
    "        ax.semilogy()\n",
    "        ax.set_ylim(1e-2, 1e5)\n",
    "\n",
    "mt_to_obs = {\"diameter\": mts[\"pd1\"], \"center\": mts[\"pc1\"]}\n",
    "cmap = mpl.colormaps[\"Set2\"]\n",
    "\n",
    "for mt in [\"diameter\", \"center\"]:\n",
    "    for group, mode in zip(\n",
    "        [idatas[\"pulsatility-pressure\"].prior_predictive, idatas[\"pulsatility-pressure\"].posterior_predictive], \n",
    "        [\"prior\", \"posterior\"]\n",
    "    ):\n",
    "        yrep = group.sel(measurement_type=mt)[\"yrep\"]\n",
    "        obs = mt_to_obs[mt]\n",
    "        f, axes = plt.subplots(2, 2, figsize=[16, 8], sharey=True)\n",
    "        axes = axes.ravel()\n",
    "        axes = plot_ppc(axes, mts, obs, yrep, cmap)\n",
    "        f.suptitle(f\"{mt.capitalize()} pulsatility measurements (first harmonic) vs {mode} simulations\");\n",
    "        f.tight_layout()\n",
    "        f.savefig(os.path.join(PLOTS_DIR, f\"pulsatility-{mode}-check-{mt}.png\"), bbox_inches=\"tight\")"
   ]
  },
  {
   "cell_type": "code",
   "execution_count": null,
   "id": "91ba3eaa-89d0-4afb-98a1-1a1c7fe77c34",
   "metadata": {},
   "outputs": [],
   "source": [
    "idatas[\"pulsatility-pressure\"].prior_predictive[\"yrep\"].sel(measurement_type=\"diameter\").quantile([0.01, 0.99])"
   ]
  },
  {
   "cell_type": "code",
   "execution_count": null,
   "id": "f597e2af-2312-4c44-813a-7d6ffa1d62b1",
   "metadata": {},
   "outputs": [],
   "source": [
    "f, ax = plt.subplots(figsize=[12, 5])\n",
    "\n",
    "az.plot_ppc(\n",
    "    idatas[\"pulsatility-pressure\"],\n",
    "    data_pairs={\"y\":\"yrep\"},\n",
    "    coords={\"measurement_type\": \"diameter\"},\n",
    "    var_names=[\"y\"], \n",
    "    ax=ax,\n",
    "    group=\"posterior\"\n",
    ");"
   ]
  },
  {
   "cell_type": "code",
   "execution_count": null,
   "id": "0596d2ab-a858-4ec2-a7a4-136bb91ea728",
   "metadata": {},
   "outputs": [],
   "source": [
    "f, ax = plt.subplots()\n",
    "ax.hist(np.log(idatas[\"pulsatility-pressure\"].prior_predictive[\"yrep\"].values.flatten()), bins=100);\n",
    "ax.semilogy()"
   ]
  },
  {
   "cell_type": "markdown",
   "id": "590b417d-f3d3-43dd-83ca-bd21e7cef0f7",
   "metadata": {},
   "source": [
    "The next cell plots the differences in age effects for each measurement type in the basic model. \n",
    "\n",
    "The plots show that, according to the basic model, diameter power harmonics tended to be higher for adult mice while center harmonics tended to be higher for old mice."
   ]
  },
  {
   "cell_type": "code",
   "execution_count": null,
   "id": "9d7669f1-305f-482b-9163-e987b377e8ea",
   "metadata": {},
   "outputs": [],
   "source": [
    "f, axes = plt.subplots(1, 2, figsize=[12, 5])\n",
    "f.suptitle(\"Age effect differences\")\n",
    "for ax, mt in zip(axes, [\"diameter\", \"center\"]):\n",
    "    comp = idatas[\"pulsatility-pressure\"].posterior[\"mu\"].sel(measurement_type=mt, age=\"adult\").values.flatten()\n",
    "    base = idatas[\"pulsatility-pressure\"].posterior[\"mu\"].sel(measurement_type=mt, age=\"old\").values.flatten()\n",
    "    ax.hist(comp - base, bins=30)\n",
    "    ax.set(title=mt.capitalize(), xlabel=\"Difference (adult minus old, arbitrary units)\")\n",
    "f.savefig(os.path.join(PLOTS_DIR, \"pulsatility-age-effects.png\"), bbox_inches=\"tight\")"
   ]
  },
  {
   "cell_type": "code",
   "execution_count": null,
   "id": "38d1ed3d-698c-413b-a2e3-559f9b74a9e0",
   "metadata": {},
   "outputs": [],
   "source": [
    "f, axes = plt.subplots(1, 2, figsize=[12, 5])\n",
    "f.suptitle(\"Pressure effect differences (adult minus old)\")\n",
    "for ax, mt in zip(axes, [\"diameter\", \"center\"]):\n",
    "    comp = idatas[\"pulsatility-pressure\"].posterior[\"b_pressure\"].sel(measurement_type=mt, age=\"adult\").values.flatten()\n",
    "    base = idatas[\"pulsatility-pressure\"].posterior[\"b_pressure\"].sel(measurement_type=mt, age=\"old\").values.flatten()\n",
    "    ax.hist(comp - base, bins=30)\n",
    "    ax.set(title=mt.capitalize(), xlabel=\"Difference (adult minus old, arbitrary units)\")\n",
    "f.savefig(os.path.join(PLOTS_DIR, \"pulsatility-pressure-effects.png\"), bbox_inches=\"tight\")"
   ]
  },
  {
   "cell_type": "code",
   "execution_count": null,
   "id": "d286bb65-39f6-4ac1-82a2-406b0855ed4a",
   "metadata": {},
   "outputs": [],
   "source": [
    "f, axes = plt.subplots(1, 2, figsize=[12, 5])\n",
    "f.suptitle(\"Treatment effect differences relative to baseline\")\n",
    "for ax, mt in zip(axes, [\"diameter\", \"center\"]):\n",
    "    for treatment in mts[\"treatment\"].cat.remove_unused_categories().cat.categories:\n",
    "        if treatment != \"baseline\":\n",
    "            comp = idatas[\"pulsatility-pressure\"].posterior[\"a_treatment\"].sel(measurement_type=mt, treatment=treatment).values.flatten()\n",
    "            base = idatas[\"pulsatility-pressure\"].posterior[\"a_treatment\"].sel(measurement_type=mt, treatment=\"baseline\").values.flatten()\n",
    "            pr = ((comp - base) > 0).mean()\n",
    "            ax.hist(comp - base, bins=30, alpha=0.6, label=treatment + f\"\\nprob +ve: {pr.round(2)}\");\n",
    "    ax.set(title=mt.capitalize(), xlabel=\"Difference (treatment minus baseline, arbitrary units)\")\n",
    "    ax.legend(frameon=False)\n",
    "axes[0].text(0.4, 200, \"The model thinks that\\nspincter ablation increases\\nthe first diameter harmonic\", fontsize=\"small\");\n",
    "f.savefig(os.path.join(PLOTS_DIR, \"pulsatility-treatment-effects.png\"), bbox_inches=\"tight\")"
   ]
  },
  {
   "cell_type": "markdown",
   "id": "0f31b6fd-fcd6-4783-9f5e-a7dde4b6e902",
   "metadata": {},
   "source": [
    "There is probably a relationship between the diameter and center pulsatility. This is because the tissue around the vessel is likely not uniform in stiffness: in this case the vessel does not expand and contract uniformly in all directions, so the center moves due to this. The movement of the center therefore has two components: the macro component due to the pressure waves that propagate through the brain and the micro component due to non-isotropic surrounding tissue.\n",
    "\n",
    "Maybe there should be an effect of absolute diameter, as the treatments tend to change this. As the diameter increases, the vessel becomes less elastic, which you might expect to reduce the pulsatility."
   ]
  },
  {
   "cell_type": "code",
   "execution_count": null,
   "id": "d82d284c-f814-46b1-acf9-9e15d29f439d",
   "metadata": {},
   "outputs": [],
   "source": [
    "idata_full = az.InferenceData.from_zarr(os.path.join(\"..\", \"inferences\", \"pulsatility-basic-full\", \"idata\"))\n",
    "idata_full\n"
   ]
  },
  {
   "cell_type": "code",
   "execution_count": null,
   "id": "d7fb0245-2bff-4419-b0a2-ae89011512cc",
   "metadata": {},
   "outputs": [],
   "source": [
    "vars = [\"tau_vessel_type\", \"tau_treatment\", \"mu\", \"a_vessel_type\", \"a_treatment\", \"b_diameter\"]\n",
    "f, axes = plt.subplots(1, 2, figsize=[15, 10], sharex=True)\n",
    "for ax, mt in zip(axes, [\"diameter\", \"center\"]):\n",
    "    az.plot_forest(\n",
    "        [idatas[\"pulsatility-basic\"], idata_full],\n",
    "        model_names=[\"no hypertension\", \"all treatments\"], \n",
    "        combined=True, \n",
    "        ax=ax,\n",
    "        var_names=vars,\n",
    "        coords={\"measurement_type\": mt}\n",
    "    );\n",
    "    ax.axvline(0, color=\"black\")\n",
    "    ax.set(title=mt.capitalize())\n",
    "f.tight_layout()\n",
    "f.suptitle(\"Shared effects\")\n",
    "f.savefig(os.path.join(PLOTS_DIR, \"pulsatility-effects-basic-datasets.png\"), bbox_inches=\"tight\")"
   ]
  },
  {
   "cell_type": "code",
   "execution_count": null,
   "id": "1657208c-606b-4f63-b069-3b42ca9325e6",
   "metadata": {},
   "outputs": [],
   "source": []
  },
  {
   "cell_type": "code",
   "execution_count": null,
   "id": "3d1824c7-0230-4a07-b4bf-1e527b9b6a93",
   "metadata": {},
   "outputs": [],
   "source": [
    "mt_to_obs = {\"diameter\": mts_full[\"pd1\"], \"center\": mts_full[\"pc1\"]}\n",
    "cmap = mpl.colormaps[\"Set2\"]\n",
    "\n",
    "for mt in [\"diameter\", \"center\"]:\n",
    "    for group, mode in zip(\n",
    "        [idata_full.prior_predictive, idata_full.posterior_predictive], \n",
    "        [\"prior\", \"posterior\"]\n",
    "    ):\n",
    "        yrep = group.sel(measurement_type=mt)[\"yrep\"]\n",
    "        obs = mt_to_obs[mt]\n",
    "        f, axes = plt.subplots(2, 2, figsize=[16, 8], sharey=True)\n",
    "        axes = axes.ravel()\n",
    "        axes = plot_ppc(axes, mts_full, obs, yrep, cmap)\n",
    "        f.suptitle(f\"{mt.capitalize()} pulsatility measurements (first harmonic) vs {mode} simulations\");\n",
    "        f.tight_layout()\n",
    "        f.savefig(os.path.join(PLOTS_DIR, f\"pulsatility-{mode}-full-check-{mt}.png\"), bbox_inches=\"tight\")"
   ]
  },
  {
   "cell_type": "code",
   "execution_count": null,
   "id": "0fae12c7-75b2-4764-a053-caec8dd26d88",
   "metadata": {},
   "outputs": [],
   "source": [
    "f, axes = plt.subplots(1, 2, figsize=[12, 5])\n",
    "f.suptitle(\"Treatment effect differences relative to baseline (basic model with full dataset)\")\n",
    "for ax, mt in zip(axes, [\"diameter\", \"center\"]):\n",
    "    for treatment in mts_full[\"treatment\"].cat.remove_unused_categories().cat.categories:\n",
    "        if treatment != \"baseline\":\n",
    "            comp = idata_full.posterior[\"a_treatment\"].sel(measurement_type=mt, treatment=treatment).values.flatten()\n",
    "            base = idata_full.posterior[\"a_treatment\"].sel(measurement_type=mt, treatment=\"baseline\").values.flatten()\n",
    "            pr = ((comp - base) > 0).mean()\n",
    "            ax.hist(comp - base, bins=30, alpha=0.6, label=treatment + f\"\\nprob +ve: {pr.round(2)}\");\n",
    "    ax.set(title=mt.capitalize(), xlabel=\"Difference (treatment minus baseline, arbitrary units)\")\n",
    "    ax.legend(frameon=False)\n",
    "f.savefig(os.path.join(PLOTS_DIR, \"pulsatility-treatment-effects-full.png\"), bbox_inches=\"tight\")"
   ]
  }
 ],
 "metadata": {
  "kernelspec": {
   "display_name": "Python 3 (ipykernel)",
   "language": "python",
   "name": "python3"
  },
  "language_info": {
   "codemirror_mode": {
    "name": "ipython",
    "version": 3
   },
   "file_extension": ".py",
   "mimetype": "text/x-python",
   "name": "python",
   "nbconvert_exporter": "python",
   "pygments_lexer": "ipython3",
   "version": "3.11.1"
  }
 },
 "nbformat": 4,
 "nbformat_minor": 5
}
