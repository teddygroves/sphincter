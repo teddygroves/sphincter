{
 "cells": [
  {
   "cell_type": "code",
   "execution_count": null,
   "id": "2a673ee5-5eb9-436d-b20f-2b62c6c91430",
   "metadata": {},
   "outputs": [],
   "source": [
    "import pandas as pd\n",
    "import matplotlib.pyplot as plt\n",
    "import numpy as np\n",
    "import os\n",
    "import arviz as az\n",
    "from cycler import cycler\n",
    "\n",
    "from sphincter.data_preparation import load_prepared_data\n",
    "from sphincter.plotting import plot_obs, plot_predictive, save_figure\n",
    "\n",
    "\n",
    "CMAP = plt.get_cmap('Set2')\n",
    "\n",
    "plt.rcParams['axes.prop_cycle'] = cycler(color=CMAP.colors)"
   ]
  },
  {
   "cell_type": "code",
   "execution_count": null,
   "id": "36599e47-c3cc-4237-8355-96327d050ad2",
   "metadata": {},
   "outputs": [],
   "source": [
    "abbreviations = {\n",
    "    \"post_ablation\": \"post abl.\",\n",
    "}\n",
    "\n",
    "def format_name(name: str):\n",
    "    return name.replace(\"_\", \" \").capitalize()\n"
   ]
  },
  {
   "cell_type": "code",
   "execution_count": null,
   "id": "0f11afac-8f3b-4d48-993c-a21de81c43e6",
   "metadata": {},
   "outputs": [],
   "source": [
    "# def forestplot(ax, ts, xlabel=\"Value of test statistic\"):\n",
    "#     az.plot_forest(ts, ax=ax, combined=True, textsize=12, linewidth=3, hdi_prob=0.95);\n",
    "#     ax.axvline(0.0, linestyle=\"--\", color=\"black\");\n",
    "#     xlow, xhigh = ax.get_xlim();\n",
    "#     xbiggest = max(abs(xlow), abs(xhigh))\n",
    "#     ax.set_xlim(-xbiggest, xbiggest);\n",
    "#     ax.set(title=\"\", xlabel=xlabel);\n",
    "#     return ax\n",
    "\n",
    "def forestplot(ax, ts, xlabel=\"Value of test statistic\", qlow=0.025, qhigh=0.975):\n",
    "    ylimlow, ylimhigh = ax.get_ylim()\n",
    "    ytickys = np.linspace(ylimlow, ylimhigh, len(ts)+2)\n",
    "    ys = ytickys[1:-1]\n",
    "    xlows = [np.quantile(t, qlow) for t in ts.values()]\n",
    "    xhighs = [np.quantile(t, qhigh) for t in ts.values()]\n",
    "    xmeans = [np.mean(t) for t in ts.values()]\n",
    "    xbiggest = max(np.abs(xlows + xhighs)) + 0.1\n",
    "    ax.set_xlim(-xbiggest, xbiggest)\n",
    "    for y, xlow, xhigh, xmean in zip(ys, xlows, xhighs, xmeans):\n",
    "        line = ax.hlines(y=y, xmin=xlow, xmax=xhigh, linewidth=2)\n",
    "        ax.plot(xmean, y, marker=\"o\", color=line.get_colors()[0])\n",
    "    ax.set_yticks(ytickys, [\"\"] + list(ts.keys()) + [\"\"])\n",
    "    # az.plot_forest(ts, ax=ax, combined=True, textsize=12, linewidth=3, hdi_prob=0.95);\n",
    "    ax.axvline(0.0, linestyle=\"--\", color=\"black\");\n",
    "    ax.set(title=\"\", xlabel=xlabel);\n",
    "    ax.tick_params(axis='y', which=\"both\", left=False, right=False)\n",
    "    return ax"
   ]
  },
  {
   "cell_type": "markdown",
   "id": "e6bd1c8b-7666-4834-b403-28827b289914",
   "metadata": {},
   "source": [
    "### MAP, PP, HR (Figure 1)"
   ]
  },
  {
   "cell_type": "code",
   "execution_count": null,
   "id": "c908ffd9-f86f-40ba-b169-a4ee2c835152",
   "metadata": {},
   "outputs": [],
   "source": [
    "idata_f1 = az.InferenceData.from_zarr(os.path.join(\"..\", \"inferences\", \"pressure\", \"idata\"))"
   ]
  },
  {
   "cell_type": "code",
   "execution_count": null,
   "id": "029303b0-b6ba-4222-8138-d7ca9d62ffb5",
   "metadata": {},
   "outputs": [],
   "source": [
    "idata_f1"
   ]
  },
  {
   "cell_type": "code",
   "execution_count": null,
   "id": "62be84f6-b574-46dd-bfa2-5188ab2b167c",
   "metadata": {},
   "outputs": [],
   "source": [
    "idata_f1.posterior.coords[\"treatment\"].values"
   ]
  },
  {
   "cell_type": "code",
   "execution_count": null,
   "id": "200432c8-9288-40b9-810a-40c069fc6740",
   "metadata": {},
   "outputs": [],
   "source": [
    "treatment_to_compare = {\n",
    "    \"hyper1\": \"baseline\",\n",
    "    \"after_hyper1\": \"baseline\",\n",
    "    \"ablation\": \"after_hyper1\",\n",
    "    \"hyper2\": \"ablation\",\n",
    "}\n",
    "\n",
    "\n",
    "for measurement_type in [\"map\", \"pp\", \"hr\"]:\n",
    "    vcb = [\n",
    "        (\"a_age\", \"age\", \"adult\"),\n",
    "        (\"a_treatment\", \"treatment\", \"baseline\")\n",
    "    ]\n",
    "    age_ts = {\n",
    "        \"Difference in age effect: Adult - Old\": idata_f1.posterior[\"a_age\"].sel(measurement_type=measurement_type, age=\"adult\") \n",
    "        - idata_f1.posterior[\"a_age\"].sel(measurement_type=measurement_type, age=\"old\")\n",
    "    }\n",
    "    treatment_ts = {\n",
    "        f\"Difference in treatment effect: {format_name(treatment)} - {format_name(treatment_to_compare[treatment])}\": idata_f1.posterior[\"a_treatment\"].sel(measurement_type=measurement_type, treatment=treatment) \n",
    "        - idata_f1.posterior[\"a_treatment\"].sel(measurement_type=measurement_type, treatment=treatment_to_compare[treatment])\n",
    "        for treatment in idata_f1.posterior.coords[\"treatment\"].values if treatment != \"baseline\"\n",
    "    }\n",
    "    ts = age_ts | treatment_ts\n",
    "    \n",
    "    f, ax = plt.subplots(figsize=[8, 4])\n",
    "    forestplot(ax, ts);\n",
    "    save_figure(f, f\"supporting-f1-effects-{measurement_type}\")"
   ]
  },
  {
   "cell_type": "code",
   "execution_count": null,
   "id": "0a254b66-d029-461d-b132-2a81cbb8e32d",
   "metadata": {},
   "outputs": [],
   "source": [
    "prepared_data_f1 = load_prepared_data(\"../data/prepared/pressure.json\")\n",
    "msts_f1 = prepared_data_f1.measurements\n",
    "\n",
    "ylabels = [\n",
    "    \"Mean arterial pressure (mmHg)\",\n",
    "    \"Pulse pressure (mmHg)\",\n",
    "    \"Heart rate (Hz)\"\n",
    "]\n",
    "yrep = idata_f1.posterior_predictive[\"yrep\"]\n",
    "\n",
    "for col, ylabel in zip([\"map\", \"pp\", \"hr\"], ylabels):\n",
    "    f, ax = plt.subplots(figsize=[8, 5])\n",
    "    plot_obs(ax, msts_f1[col], cat=msts_f1[\"treatment\"]);\n",
    "    plot_predictive(ax, yrep.sel(measurement_type=col), zorder=-1, cat=msts_f1[\"treatment\"], label=\"model\")\n",
    "    ax.set(ylabel=ylabel)\n",
    "    ax.set_xticks([])\n",
    "    handles, labels = plt.gca().get_legend_handles_labels()\n",
    "    by_label = dict(zip(map(format_name, labels), handles))\n",
    "    f.legend(by_label.values(), by_label.keys(), frameon=False, ncol=3)\n",
    "    ax.semilogy()\n",
    "    #f.suptitle(\"Pressure measurements with posterior predictive intervals\");\n",
    "    save_figure(f, f\"supporting-f1-ppc-{col}\")\n"
   ]
  },
  {
   "cell_type": "markdown",
   "id": "f92aba0f-216d-494d-8c51-c0cfa5560330",
   "metadata": {},
   "source": [
    "### Whisker stimulation (Figure 2)"
   ]
  },
  {
   "cell_type": "code",
   "execution_count": null,
   "id": "90a2f1e7-f100-413d-b25c-3a3294b2c1ef",
   "metadata": {},
   "outputs": [],
   "source": [
    "prepared_data_f2 = load_prepared_data(\"../data/prepared/whisker.json\")\n",
    "msts_f2 = prepared_data_f2.measurements\n",
    "\n",
    "idata_f2 = az.InferenceData.from_zarr(os.path.join(\"..\", \"inferences\", \"whisker-ind\", \"idata\"))\n",
    "idata_f2_big = az.InferenceData.from_zarr(os.path.join(\"..\", \"inferences\", \"whisker-big\", \"idata\"))\n",
    "idata_f2_big"
   ]
  },
  {
   "cell_type": "code",
   "execution_count": null,
   "id": "437a96d8-05d9-445b-afef-57eccb312fb2",
   "metadata": {},
   "outputs": [],
   "source": [
    "t = idata_f2.posterior[\"mu\"].sel(age=\"adult\") - idata_f2.posterior[\"mu\"].sel(age=\"old\")\n",
    "f, ax = plt.subplots(figsize=[8, 3])\n",
    "forestplot(ax, {\"Difference in age effect: adult - old\": t});"
   ]
  },
  {
   "cell_type": "code",
   "execution_count": null,
   "id": "402eeb06-aee2-4da2-9bc2-6f4d9bfbf174",
   "metadata": {},
   "outputs": [],
   "source": [
    "diff = {\n",
    "    f\"Difference in vessel type effect: {format_name(vt)} - {format_name('pen_art')}\": (\n",
    "        idata_f2.posterior[\"a_vessel_type\"].sel(vessel_type=vt) \n",
    "        - idata_f2.posterior[\"a_vessel_type\"].sel(vessel_type=\"pen_art\")\n",
    "    )\n",
    "    for vt in [\"sphincter\", \"bulb\", \"cap1\", \"cap2\"]\n",
    "}\n",
    "f, ax = plt.subplots(figsize=[8, 5])\n",
    "forestplot(ax, diff);\n",
    "\n",
    "save_figure(f, \"supporting-f2-effects-vesseltype\")"
   ]
  },
  {
   "cell_type": "code",
   "execution_count": null,
   "id": "7b1e8831-6dac-4f99-beaf-2b680ec14cbd",
   "metadata": {},
   "outputs": [],
   "source": [
    "f, ax = plt.subplots(figsize=[6, 10])\n",
    "t = {\n",
    "    f\"Interaction effect {format_name(vt)}:{format_name(t)}\": (\n",
    "        idata_f2_big.posterior[\"a_vessel_type_treatment\"].sel(vessel_type=vt, treatment=t)\n",
    "    )\n",
    "    for vt in idata_f2_big.posterior.coords[\"vessel_type\"].values\n",
    "    for t in idata_f2_big.posterior.coords[\"treatment\"].values\n",
    "}\n",
    "forestplot(ax, t);\n",
    "save_figure(f, \"supporting-f2-effects-vesseltype-treatment\")"
   ]
  },
  {
   "cell_type": "code",
   "execution_count": null,
   "id": "e8595840-bcc4-431f-85ec-91425b9a19af",
   "metadata": {},
   "outputs": [],
   "source": [
    "f, ax = plt.subplots(figsize=[6, 5])\n",
    "t = {\n",
    "    f\"Interaction effect {format_name(age)}:{format_name(t)}\": (\n",
    "        idata_f2_big.posterior[\"a_age_treatment\"].sel(age=age, treatment=t)\n",
    "    )\n",
    "    for age in idata_f2_big.posterior.coords[\"age\"].values\n",
    "    for t in idata_f2_big.posterior.coords[\"treatment\"].values\n",
    "}\n",
    "forestplot(ax, t);\n",
    "save_figure(f, \"supporting-f2-effects-age-treatment\")"
   ]
  },
  {
   "cell_type": "code",
   "execution_count": null,
   "id": "dbc5e919-9555-4417-92a0-316fc10adcfc",
   "metadata": {},
   "outputs": [],
   "source": [
    "f, ax = plt.subplots(figsize=[12, 5])\n",
    "plot_obs(ax, msts_f2[\"diam_log_ratio\"], cat=msts_f2[\"treatment\"])\n",
    "plot_predictive(ax, idata_f2.posterior_predictive[\"yrep\"], cat=msts_f2[\"treatment\"], zorder=-1, label=\"model\")\n",
    "ax.set(ylabel=\"Whisker response\")\n",
    "ax.set_xticks([])\n",
    "handles, labels = plt.gca().get_legend_handles_labels()\n",
    "by_label = dict(zip(map(format_name, labels), handles))\n",
    "ax.legend(by_label.values(), by_label.keys(), frameon=False)\n",
    "save_figure(f, \"supporting-f2-ppc\")"
   ]
  },
  {
   "cell_type": "code",
   "execution_count": null,
   "id": "0c091cec-a0e5-420b-bc71-0c966c94f1b7",
   "metadata": {},
   "outputs": [],
   "source": [
    "comparison = az.compare({\"big\": idata_f2_big, \"ind\": idata_f2})\n",
    "comparison"
   ]
  },
  {
   "cell_type": "markdown",
   "id": "3397005c-6975-484f-a554-5da6c7528457",
   "metadata": {},
   "source": [
    "## Figure 3"
   ]
  },
  {
   "cell_type": "code",
   "execution_count": null,
   "id": "675dd1eb-0017-463f-9cac-55dd2db1aea1",
   "metadata": {},
   "outputs": [],
   "source": [
    "prepped_f3 = load_prepared_data(\"../data/prepared/hypertension.json\")\n",
    "msts_f3 = prepped_f3.measurements\n",
    "idata_f3_big = az.InferenceData.from_zarr(os.path.join(\"..\", \"inferences\", \"hypertension-big\", \"idata\"))\n",
    "idata_f3_basic = az.InferenceData.from_zarr(os.path.join(\"..\", \"inferences\", \"hypertension-basic\", \"idata\"))\n",
    "idata_f3_big"
   ]
  },
  {
   "cell_type": "code",
   "execution_count": null,
   "id": "d0ba96f9-a6a1-4fa6-bbdd-19aeffbfa318",
   "metadata": {},
   "outputs": [],
   "source": [
    "msts_f3"
   ]
  },
  {
   "cell_type": "code",
   "execution_count": null,
   "id": "3dc6a31e-8161-496a-9643-de9bda21ad3e",
   "metadata": {},
   "outputs": [],
   "source": [
    "catcol = \"treatment\"\n",
    "f, ax = plt.subplots(figsize=[12, 5])\n",
    "plot_obs(ax, msts_f3[\"atanh_corr_bp_diam\"], cat=msts_f3[catcol])\n",
    "plot_predictive(ax, idata_f3_basic.posterior_predictive[\"yrep\"], cat=msts_f3[catcol], zorder=-1, label=\"model\")\n",
    "ax.set(ylabel=\"$tan^{-1}(correlation\\\\ coefficient)$\")\n",
    "ax.set_xticks([])\n",
    "handles, labels = plt.gca().get_legend_handles_labels()\n",
    "by_label = dict(zip(map(format_name, labels), handles))\n",
    "ax.legend(by_label.values(), by_label.keys(), frameon=False)\n",
    "save_figure(f, \"supporting-f3-ppc\")"
   ]
  },
  {
   "cell_type": "code",
   "execution_count": null,
   "id": "555b8bf5-26d6-4d44-a1b1-0e0518ba8221",
   "metadata": {},
   "outputs": [],
   "source": [
    "# t = {\n",
    "#     \"Age effect difference: Adult - Old\": (\n",
    "#         idata_f3_basic.posterior[\"mu\"].sel(age=\"adult\")\n",
    "#         - idata_f3_basic.posterior[\"mu\"].sel(age=\"old\")\n",
    "#     )\n",
    "# }\n",
    "# f, ax = plt.subplots(figsize=[8, 3])\n",
    "# forestplot(ax, t);\n",
    "# save_figure(f, \"supporting-f3-effects-age\")\n",
    "\n",
    "# t = {\n",
    "#     f\"Treatment effect difference: {format_name('hyper2')} - {format_name('hyper1')}\": (\n",
    "#         idata_f3_basic.posterior[\"a_treatment\"].sel(treatment=\"hyper2\")\n",
    "#         - idata_f3_basic.posterior[\"a_treatment\"].sel(treatment=\"hyper1\")\n",
    "#     )\n",
    "# }\n",
    "# f, ax = plt.subplots(figsize=[8, 3])\n",
    "# forestplot(ax, t);\n",
    "# save_figure(f, \"supporting-f3-effects-hyper1hyper2\")"
   ]
  },
  {
   "cell_type": "code",
   "execution_count": null,
   "id": "1a33b576-30ff-4cfe-9e8e-5a4ada1c9547",
   "metadata": {},
   "outputs": [],
   "source": [
    "t = {\n",
    "    f\"Measurement error parameter: {format_name(vt)}\": idata_f3_basic.posterior[\"sigma\"].sel(vessel_type=vt) \n",
    "    for vt in [\"sphincter\", \"bulb\", \"cap1\", \"cap2\"]\n",
    "}\n",
    "f, ax = plt.subplots(figsize=[8, 5])\n",
    "forestplot(ax, t);\n",
    "ax.set_xlim(0, ax.get_xlim()[1])\n",
    "\n",
    "save_figure(f, \"supporting-f3-sds\")"
   ]
  },
  {
   "cell_type": "markdown",
   "id": "a1349116-e2ed-4349-a0a3-30a64187cb8c",
   "metadata": {},
   "source": [
    "## figure 4"
   ]
  },
  {
   "cell_type": "code",
   "execution_count": null,
   "id": "6f8b8667-2407-4cf4-aab8-bf4c7f6ac997",
   "metadata": {
    "scrolled": true
   },
   "outputs": [],
   "source": [
    "idata_f4_basic_speed = az.from_zarr(os.path.join(\"..\", \"inferences\", \"flow-basic-speed\", \"idata\"))\n",
    "idata_f4_basic_flux = az.from_zarr(os.path.join(\"..\", \"inferences\", \"flow-basic-flux\", \"idata\"))\n",
    "idata_f4_big_speed = az.from_zarr(os.path.join(\"..\", \"inferences\", \"flow-big-speed\", \"idata\"))\n",
    "idata_f4_big_flux = az.from_zarr(os.path.join(\"..\", \"inferences\", \"flow-big-flux\", \"idata\"))\n",
    "\n",
    "prepped_f4_speed = load_prepared_data(\"../data/prepared/flow-speed.json\")\n",
    "prepped_f4_flux = load_prepared_data(\"../data/prepared/flow-flux.json\")\n",
    "\n",
    "msts_f4_speed = prepped_f4_speed.measurements\n",
    "msts_f4_flux = prepped_f4_flux.measurements\n",
    "\n",
    "idata_f4_basic_speed"
   ]
  },
  {
   "cell_type": "code",
   "execution_count": null,
   "id": "9b798ca1-763d-4d06-aa48-f566b9a802f4",
   "metadata": {},
   "outputs": [],
   "source": [
    "raw = pd.read_csv(\"../data/raw/data_sphincter_paper.csv\")\n",
    "\n",
    "raw.groupby(\"vessel\").apply(lambda subdf: subdf[\"flux\"].notnull().sum())"
   ]
  },
  {
   "cell_type": "code",
   "execution_count": null,
   "id": "f6d8c754-1758-48e4-afa1-15ca941bc90a",
   "metadata": {},
   "outputs": [],
   "source": [
    "msts_f4_speed"
   ]
  },
  {
   "cell_type": "code",
   "execution_count": null,
   "id": "dcb91d90-01c9-41c3-a73d-8a8a901b6e1c",
   "metadata": {},
   "outputs": [],
   "source": [
    "catcol = \"vessel_type\"\n",
    "f, ax = plt.subplots(figsize=[12, 5])\n",
    "plot_obs(ax, msts_f4_speed[\"speed\"], cat=msts_f4_speed[catcol])\n",
    "plot_predictive(ax, idata_f4_basic_speed.posterior_predictive[\"yrep\"], cat=msts_f4_speed[catcol], zorder=-1, label=\"model\")\n",
    "ax.set(ylabel=\"Speed\")\n",
    "ax.set_xticks([])\n",
    "handles, labels = plt.gca().get_legend_handles_labels()\n",
    "by_label = dict(zip(map(format_name, labels), handles))\n",
    "ax.legend(by_label.values(), by_label.keys(), frameon=False)\n",
    "ax.semilogy()\n",
    "save_figure(f, \"supporting-f4-ppc-speed\")"
   ]
  },
  {
   "cell_type": "code",
   "execution_count": null,
   "id": "26ca68f2-0a00-40da-9769-e824eb94389f",
   "metadata": {},
   "outputs": [],
   "source": [
    "catcol = \"vessel_type\"\n",
    "f, ax = plt.subplots(figsize=[12, 5])\n",
    "plot_obs(ax, msts_f4_flux[\"flux\"], cat=msts_f4_flux[catcol])\n",
    "plot_predictive(ax, idata_f4_basic_flux.posterior_predictive[\"yrep\"], cat=msts_f4_flux[catcol], zorder=-1, label=\"model\")\n",
    "ax.set(ylabel=\"Flux\")\n",
    "ax.set_xticks([])\n",
    "handles, labels = plt.gca().get_legend_handles_labels()\n",
    "by_label = dict(zip(map(format_name, labels), handles))\n",
    "ax.legend(by_label.values(), by_label.keys(), frameon=False)\n",
    "ax.semilogy()\n",
    "save_figure(f, \"supporting-f4-ppc-flux\")"
   ]
  },
  {
   "cell_type": "code",
   "execution_count": null,
   "id": "f58bc291-2494-4bfe-b8b6-e64fe5a05b54",
   "metadata": {},
   "outputs": [],
   "source": [
    "speed_comp = az.compare({\"big\": idata_f4_big_speed, \"basic\": idata_f4_basic_speed})\n",
    "flux_comp = az.compare({\"big\": idata_f4_big_flux, \"basic\": idata_f4_basic_flux})\n",
    "\n",
    "cols = [\"elpd_loo\", \"se\", \"elpd_diff\", \"dse\"]\n",
    "display(speed_comp[cols])\n",
    "display(flux_comp[cols])"
   ]
  },
  {
   "cell_type": "code",
   "execution_count": null,
   "id": "6de0831a-327a-4b46-9a43-9b9d159c5c71",
   "metadata": {},
   "outputs": [],
   "source": [
    "idata_f4_basic_flux.posterior.coords[\"vessel_type\"].values"
   ]
  },
  {
   "cell_type": "code",
   "execution_count": null,
   "id": "6d19a312-fc3e-4b25-a2a1-d662b7f8c62a",
   "metadata": {},
   "outputs": [],
   "source": [
    "comparison = \"cap5\"\n",
    "vts = {\n",
    "    \"flux\": [\"sphincter\", \"cap2\", \"cap3\", \"cap4\", \"cap5\"],\n",
    "    \"speed\": [\"sphincter\", \"cap1\", \"cap2\", \"cap3\", \"cap4\", \"cap5\"],\n",
    "}\n",
    "t = {\n",
    "    f\"Difference in vessel type effect on RBC flux: {vt} - {format_name(comparison)}\": (\n",
    "        idata_f4_basic_flux.posterior[\"a_vessel_type\"].sel(vessel_type=vt)\n",
    "        - idata_f4_basic_flux.posterior[\"a_vessel_type\"].sel(vessel_type=comparison)\n",
    "    )\n",
    "    for vt in vts[\"flux\"] if vt != comparison\n",
    "\n",
    "} | {\n",
    "     f\"Difference in vessel type effect on RBC speed: {vt} - {format_name(comparison)}\": (\n",
    "        idata_f4_basic_speed.posterior[\"a_vessel_type\"].sel(vessel_type=vt)\n",
    "        - idata_f4_basic_speed.posterior[\"a_vessel_type\"].sel(vessel_type=comparison)\n",
    "    )\n",
    "    for vt in vts[\"speed\"] if vt != comparison\n",
    "}\n",
    "f, ax = plt.subplots(figsize=[8, 5])\n",
    "forestplot(ax, t);\n",
    "save_figure(f, \"supporting-f4-effects-vesseltype\")\n"
   ]
  },
  {
   "cell_type": "code",
   "execution_count": null,
   "id": "20818ba9-d1c3-44ab-8ba5-9f03b2c1b118",
   "metadata": {},
   "outputs": [],
   "source": [
    "t = {\n",
    "    f\"RBC {mt} Measurement error parameter: {format_name(treatment)}\": idata.posterior[\"sigma\"].sel(treatment=treatment) \n",
    "    for mt, idata in [(\"flux\", idata_f4_basic_flux), (\"speed\", idata_f4_basic_speed)]\n",
    "    for treatment in idata.posterior.coords[\"treatment\"].values\n",
    "\n",
    "}\n",
    "f, ax = plt.subplots(figsize=[8, 5])\n",
    "forestplot(ax, t);\n",
    "ax.set_xlim(0, ax.get_xlim()[1])\n",
    "\n",
    "save_figure(f, \"supporting-f4-sds\")"
   ]
  },
  {
   "cell_type": "code",
   "execution_count": null,
   "id": "b254a4a6-a0ee-4251-9bf7-7181c16c1942",
   "metadata": {},
   "outputs": [],
   "source": [
    "vts = [\"bulb\", \"sphincter\", \"cap1\", \"cap2\", \"cap3\", \"cap4\", \"cap5\"]\n",
    "treatments = [\"hyper\", \"after_hyper\", \"after_ablation\", \"hyper2\"]\n",
    "treatment_to_compare = {\n",
    "    \"hyper\": \"baseline\",\n",
    "    \"after_hyper\": \"baseline\",\n",
    "    \"after_ablation\": \"after_hyper\",\n",
    "    \"hyper2\": \"after_ablation\",\n",
    "}\n",
    "t = {\n",
    "    f\"RBC speed effect: {format_name(vt)}:{format_name(treatment)} - {format_name(vt)}:{format_name(treatment_to_compare[treatment])}\": (\n",
    "        idata_f4_big_speed.posterior[\"a_vessel_type_treatment\"].sel(vessel_type=vt, treatment=treatment)\n",
    "        - idata_f4_big_speed.posterior[\"a_vessel_type_treatment\"].sel(vessel_type=vt, treatment=treatment_to_compare[treatment])\n",
    "    )   \n",
    "    for vt in vts\n",
    "    for treatment in treatments\n",
    "}\n",
    "f, ax = plt.subplots(figsize=[8, 11], sharex=True)\n",
    "forestplot(ax, t);\n",
    "save_figure(f, \"supporting-f4-interaction-effects-speed\")"
   ]
  },
  {
   "cell_type": "code",
   "execution_count": null,
   "id": "f7b08508-2f87-4cea-a77c-6d763ee5fb06",
   "metadata": {},
   "outputs": [],
   "source": [
    "vts = ['sphincter', 'cap2', 'cap3', 'cap4', 'cap5']\n",
    "treatments = ['hyper', 'after_hyper', 'after_ablation', 'hyper2']\n",
    "t = {\n",
    "    f\"RBC flux effect: {format_name(vt)}:{format_name(treatment)} - {format_name(vt)}:{format_name(treatment_to_compare[treatment])}\": (\n",
    "        idata_f4_big_flux.posterior[\"a_vessel_type_treatment\"].sel(vessel_type=vt, treatment=treatment)\n",
    "        - idata_f4_big_flux.posterior[\"a_vessel_type_treatment\"].sel(vessel_type=vt, treatment=treatment_to_compare[treatment])\n",
    "    )   \n",
    "    for vt in vts\n",
    "    for treatment in treatments\n",
    "}\n",
    "f, ax = plt.subplots(figsize=[8, 10], sharex=True)\n",
    "forestplot(ax, t);\n",
    "save_figure(f, \"supporting-f4-interaction-effects-flux\")"
   ]
  },
  {
   "cell_type": "markdown",
   "id": "3680b622-2cf4-4826-ae19-683940a3bfdf",
   "metadata": {},
   "source": [
    "## Figure 5"
   ]
  },
  {
   "cell_type": "code",
   "execution_count": null,
   "id": "6ec7084e-2e8b-434e-b7f3-69f3da3babff",
   "metadata": {},
   "outputs": [],
   "source": [
    "idata_f5 = az.InferenceData.from_zarr(os.path.join(\"..\", \"inferences\", \"pulsatility-basic-full\", \"idata\"))\n",
    "data_f5 = load_prepared_data(\"../data/prepared/pulsatility.json\")\n",
    "msts_f5 = data_f5.measurements\n",
    "\n"
   ]
  },
  {
   "cell_type": "code",
   "execution_count": null,
   "id": "0541028e-9e0c-4944-81a6-a019664d297e",
   "metadata": {},
   "outputs": [],
   "source": [
    "f, ax = plt.subplots(figsize=[12, 5])\n",
    "plot_obs(ax, msts_f5[\"pd1\"], cat=msts_f5[\"vessel_type\"]);\n",
    "plot_predictive(ax, idata_f5.posterior_predictive[\"yrep\"].sel(measurement_type=\"diameter\"), cat=msts_f5[\"vessel_type\"], zorder=-1, label=\"model\")\n",
    "ax.semilogy()\n",
    "ax.set(ylabel=\"Diameter pulsatility (first harmonic)\")\n",
    "ax.set_xticks([]);\n",
    "handles, labels = plt.gca().get_legend_handles_labels()\n",
    "by_label = dict(zip(map(format_name, labels), handles))\n",
    "ax.legend(by_label.values(), by_label.keys(), frameon=False, ncol=3);\n",
    "save_figure(f, \"supporting-f5-ppc-diameter\")"
   ]
  },
  {
   "cell_type": "code",
   "execution_count": null,
   "id": "32efa311-c04c-42de-bc89-d7505f07efda",
   "metadata": {},
   "outputs": [],
   "source": [
    "f, ax = plt.subplots(figsize=[12, 5])\n",
    "plot_obs(ax, msts_f5[\"pc1\"], cat=msts_f5[\"vessel_type\"]);\n",
    "plot_predictive(ax, idata_f5.posterior_predictive[\"yrep\"].sel(measurement_type=\"center\"), cat=msts_f5[\"vessel_type\"], zorder=-1, label=\"model\")\n",
    "ax.semilogy()\n",
    "ax.set(ylabel=\"Center pulsatility (first harmonic)\")\n",
    "ax.set_xticks([])\n",
    "handles, labels = plt.gca().get_legend_handles_labels()\n",
    "by_label = dict(zip(map(format_name, labels), handles))\n",
    "ax.legend(by_label.values(), by_label.keys(), frameon=False, ncol=3);\n",
    "save_figure(f, \"supporting-f5-ppc-center\")"
   ]
  },
  {
   "cell_type": "code",
   "execution_count": null,
   "id": "58c7bfca-ba96-441c-bcf7-6b0f2c1f93c3",
   "metadata": {},
   "outputs": [],
   "source": [
    "idata_f5"
   ]
  },
  {
   "cell_type": "code",
   "execution_count": null,
   "id": "b791cee2-2834-4993-8943-cdc1f873cf01",
   "metadata": {},
   "outputs": [],
   "source": [
    "comparison = \"pen_art\"\n",
    "vts = [\"pen_art\", \"bulb\", \"cap1\", \"cap2\", \"cap3\", \"cap4\", \"cap5\"]\n",
    "t = {\n",
    "    f\"Difference in vessel type effect on diameter pulsatility: {format_name(vt)} - {format_name(comparison)}\": (\n",
    "        idata_f5.posterior[\"a_vessel_type\"].sel(measurement_type=\"diameter\", vessel_type=vt)\n",
    "        - idata_f5.posterior[\"a_vessel_type\"].sel(measurement_type=\"diameter\", vessel_type=comparison)\n",
    "    )\n",
    "    for vt in vts if vt != comparison\n",
    "\n",
    "} | {\n",
    "     f\"Difference in vessel type effect on center pulsatility: {format_name(vt)} - {format_name(comparison)}\": (\n",
    "        idata_f5.posterior[\"a_vessel_type\"].sel(measurement_type=\"center\", vessel_type=vt)\n",
    "        - idata_f5.posterior[\"a_vessel_type\"].sel(measurement_type=\"center\", vessel_type=comparison)\n",
    "    )\n",
    "    for vt in vts if vt != comparison\n",
    "}\n",
    "f, ax = plt.subplots(figsize=[8, 5])\n",
    "forestplot(ax, t);\n",
    "save_figure(f, \"supporting-f5-effects-vesseltype\")\n"
   ]
  },
  {
   "cell_type": "code",
   "execution_count": null,
   "id": "ce4ea40e-6f9a-4ad0-a159-71ed4b648292",
   "metadata": {},
   "outputs": [],
   "source": [
    "\n",
    "t = {\n",
    "    f\"Effect of diameter on diameter pulsatility\": idata_f5.posterior[\"b_diameter\"].sel(measurement_type=\"diameter\"),\n",
    "    f\"Effect of diameter on center pulsatility\": idata_f5.posterior[\"b_diameter\"].sel(measurement_type=\"center\"),\n",
    "}\n",
    "f, ax = plt.subplots(figsize=[8, 3])\n",
    "forestplot(ax, t);\n",
    "save_figure(f, \"supporting-f5-effects-diameter\")\n"
   ]
  },
  {
   "cell_type": "markdown",
   "id": "57eb8525-81a6-45ae-8210-bfd382fac531",
   "metadata": {},
   "source": [
    "## Figure 6"
   ]
  },
  {
   "cell_type": "code",
   "execution_count": null,
   "id": "13fedb9b-957e-4fd4-a8a4-b16e69062386",
   "metadata": {},
   "outputs": [],
   "source": [
    "idata_f6 = az.InferenceData.from_zarr(os.path.join(\"..\", \"inferences\", \"diameter\", \"idata\"))\n",
    "prepared_data_f6 = load_prepared_data(os.path.join(\"..\", \"data\", \"prepared\", \"pulsatility.json\"))\n",
    "msts_f6 = prepared_data_f6.measurements\n",
    "idata_f6"
   ]
  },
  {
   "cell_type": "code",
   "execution_count": null,
   "id": "15a1d8b6-f4a2-4cf6-8f97-c1d3e7c4a201",
   "metadata": {},
   "outputs": [],
   "source": [
    "msts_f6.groupby([\"treatment\", \"vessel_type\"]).size().unstack()"
   ]
  },
  {
   "cell_type": "code",
   "execution_count": null,
   "id": "0b803858-c330-42ce-bedd-9089a506cd75",
   "metadata": {},
   "outputs": [],
   "source": [
    "t_overall = {\n",
    "    \"Difference in age effect: Adult - Old (Overall)\" : (\n",
    "        idata_f6.posterior[\"mu\"].sel(age=\"adult\")\n",
    "        - idata_f6.posterior[\"mu\"].sel(age=\"old\")\n",
    "    )\n",
    "}\n",
    "t_vt = {\n",
    "    f\"Difference in age effect: Adult - Old ({format_name(vt)})\": (\n",
    "        idata_f6.posterior[\"mu\"].sel(age=\"adult\") - idata_f6.posterior[\"mu\"].sel(age=\"old\")\n",
    "        + idata_f6.posterior[\"a_age_vessel_type\"].sel(age=\"adult\", vessel_type=vt)\n",
    "        - idata_f6.posterior[\"a_age_vessel_type\"].sel(age=\"old\", vessel_type=vt)\n",
    "    )\n",
    "    for vt in idata_f6.posterior.coords[\"vessel_type\"].values\n",
    "}\n",
    "t = t_overall | t_vt\n",
    "f, ax = plt.subplots(figsize=[8, 5])\n",
    "forestplot(ax, t);\n",
    "save_figure(f, \"supporting-f6-effects-age\")"
   ]
  },
  {
   "cell_type": "code",
   "execution_count": null,
   "id": "d454017a-1746-41cb-8cce-554ddb8f5350",
   "metadata": {},
   "outputs": [],
   "source": [
    "t = {\n",
    "    f\"Treatment effect: {format_name(treatment)} - Baseline ({format_name(vt)})\": (\n",
    "        idata_f6.posterior[\"a_treatment\"].sel(treatment=treatment) \n",
    "        - idata_f6.posterior[\"a_treatment\"].sel(treatment=\"baseline\")\n",
    "        + idata_f6.posterior[\"a_vessel_type_treatment\"].sel(treatment=treatment, vessel_type=vt)\n",
    "        - idata_f6.posterior[\"a_vessel_type_treatment\"].sel(treatment=\"baseline\", vessel_type=vt)\n",
    "    )\n",
    "    for treatment in idata_f6.posterior.coords[\"treatment\"].values\n",
    "    for vt in idata_f6.posterior.coords[\"vessel_type\"].values\n",
    "    if treatment != \"baseline\"\n",
    "}\n",
    "f, ax = plt.subplots(figsize=[8, 9])\n",
    "forestplot(ax, t);"
   ]
  },
  {
   "cell_type": "code",
   "execution_count": null,
   "id": "dc5e9769-c90f-47a5-8d8f-1ff57c30fbac",
   "metadata": {},
   "outputs": [],
   "source": [
    "yrep = idata_f6.posterior_predictive[\"yrep\"]\n",
    "\n",
    "f, ax = plt.subplots(1, 1, figsize=[16, 5])\n",
    "\n",
    "plot_obs(ax, msts_f6[\"diameter\"], cat=msts_f6[\"vessel_type\"]);\n",
    "plot_predictive(ax, yrep, zorder=-1, cat=msts_f6[\"vessel_type\"], label=\"model\")\n",
    "ax.legend(frameon=False);\n",
    "ax.semilogy();\n",
    "ax.set_xticks([])\n",
    "ax.set(ylabel=\"Diameter ($\\\\mu$m), log scale\")\n",
    "handles, labels = plt.gca().get_legend_handles_labels()\n",
    "by_label = dict(zip(map(format_name, labels), handles))\n",
    "ax.legend(by_label.values(), by_label.keys(), frameon=False, ncol=3);\n",
    "save_figure(f, \"supporting-f6-ppc\")"
   ]
  },
  {
   "cell_type": "markdown",
   "id": "1ccd078e-4e5d-41c7-85ab-b09396770429",
   "metadata": {},
   "source": [
    "## Figure 7"
   ]
  },
  {
   "cell_type": "code",
   "execution_count": null,
   "id": "b1ec9779-41d2-44c7-9983-cc55613a6df3",
   "metadata": {},
   "outputs": [],
   "source": [
    "idata_f7_density = az.from_netcdf(os.path.join(\"..\", \"inferences\", \"collaterals\", \"ctls_per_area.nc\"))\n",
    "idata_f7_diameter = az.from_netcdf(os.path.join(\"..\", \"inferences\", \"collaterals\", \"ln_diameter_mean.nc\"))\n",
    "idata_f7_curved_length = az.from_netcdf(os.path.join(\"..\", \"inferences\", \"collaterals\", \"ln_curved_length.nc\"))\n",
    "idata_f7_tortuosity = az.from_netcdf(os.path.join(\"..\", \"inferences\", \"collaterals\", \"ln_m1_tortuosity.nc\"))\n",
    "idata_f7_craniotomy_diameter = az.from_netcdf(\"../inferences/collaterals/ln_craniotomy_diameter.nc\")\n",
    "\n",
    "\n",
    "msts_f7_bpts = pd.read_csv(os.path.join(\"..\", \"data\", \"prepared\", \"branchpoints.csv\"))\n",
    "msts_f7_ctls = pd.read_csv(os.path.join(\"..\", \"data\", \"prepared\", \"collaterals.csv\"))\n",
    "msts_f7_mice = pd.read_csv(os.path.join(\"..\", \"data\", \"prepared\", \"collaterals-mice.csv\"))\n",
    "msts_f7_mice.head()"
   ]
  },
  {
   "cell_type": "code",
   "execution_count": null,
   "id": "dc1a3650-7194-4771-82d6-53fd32c63353",
   "metadata": {},
   "outputs": [],
   "source": [
    "for idata, ycol, ylabel in zip(\n",
    "    [idata_f7_density, idata_f7_craniotomy_diameter],\n",
    "    [\"ln_collaterals_per_area\", \"ln_craniotomy_diameter\"],\n",
    "    [\"Collaterals per $mm^2$\", \"Craniotomy diameter\"],\n",
    "):\n",
    "\n",
    "    f, ax = plt.subplots(1, 1, figsize=[7, 4])\n",
    "    \n",
    "    yrep = np.exp(idata.posterior_predictive[ycol])\n",
    "    plot_obs(ax, np.exp(msts_f7_mice[ycol]), cat=msts_f7_mice[\"age\"]);\n",
    "    plot_predictive(ax, yrep, zorder=-1, cat=msts_f7_mice[\"age\"], label=\"model\");\n",
    "    handles, labels = plt.gca().get_legend_handles_labels()\n",
    "    by_label = dict(zip(map(format_name, labels), handles))\n",
    "    ax.semilogy()\n",
    "    ax.set_ylabel(ylabel);\n",
    "    ax.legend(by_label.values(), by_label.keys(), frameon=False, ncol=3);\n",
    "    save_figure(f, f\"supporting-f7-ppc-{ycol}\")"
   ]
  },
  {
   "cell_type": "code",
   "execution_count": null,
   "id": "82df4420-2a62-4dc0-ba49-6e5c4ef2525c",
   "metadata": {},
   "outputs": [],
   "source": [
    "ycol_to_title = {\n",
    "    \"ln_diameter_mean\": \"Collateral Diameter\",\n",
    "    \"ln_curved_length\": \"Collateral Length\",\n",
    "}\n",
    "\n",
    "for (ycol, title), idata in zip(\n",
    "    ycol_to_title.items(), \n",
    "    [idata_f7_diameter, idata_f7_curved_length]\n",
    "):\n",
    "    f, ax = plt.subplots(figsize=[7, 4])\n",
    "    y = np.exp(msts_f7_ctls[ycol])\n",
    "    yrep = np.exp(idata.posterior_predictive[ycol])\n",
    "    plot_obs(ax, y, cat=msts_f7_ctls[\"age\"]);\n",
    "    plot_predictive(ax, yrep, zorder=-1, cat=msts_f7_ctls[\"age\"], label=\"model\");\n",
    "    ax.semilogy()\n",
    "    ax.set_ylabel(title)\n",
    "    handles, labels = plt.gca().get_legend_handles_labels()\n",
    "    by_label = dict(zip(map(format_name, labels), handles))\n",
    "    ax.semilogy()\n",
    "    ax.set_xticks([])\n",
    "    ax.set_ylabel(title.lower().capitalize());\n",
    "    ax.legend(by_label.values(), by_label.keys(), frameon=False, ncol=3);\n",
    "    save_figure(f, f\"supporting-f7-ppc-{title.lower().replace(\" \", \"-\")}\")"
   ]
  },
  {
   "cell_type": "code",
   "execution_count": null,
   "id": "44335ecf-c8bc-45f3-8f94-4853327035f7",
   "metadata": {},
   "outputs": [],
   "source": [
    "ycol_to_title = {\n",
    "    \"ln_m1_tortuosity\": \"Collateral Tortuosity\"\n",
    "}\n",
    "\n",
    "for (ycol, title), idata in zip(ycol_to_title.items(), [idata_f7_tortuosity]):\n",
    "    f, ax = plt.subplots(figsize=[7, 4])\n",
    "    y = np.exp(msts_f7_ctls[ycol] + 1)\n",
    "    yrep = np.exp(idata.posterior_predictive[ycol] + 1)\n",
    "    plot_obs(ax, y, cat=msts_f7_ctls[\"age\"]);\n",
    "    plot_predictive(ax, yrep, zorder=-1, cat=msts_f7_ctls[\"age\"], label=\"model\");\n",
    "    ax.semilogy()\n",
    "    ax.set_ylabel(title)\n",
    "    handles, labels = plt.gca().get_legend_handles_labels()\n",
    "    by_label = dict(zip(map(format_name, labels), handles))\n",
    "    ax.semilogy()\n",
    "    ax.set_xticks([])\n",
    "    ax.set_ylabel(title.lower().capitalize());\n",
    "    ax.legend(by_label.values(), by_label.keys(), frameon=False, ncol=3);\n",
    "    save_figure(f, f\"supporting-f7-ppc-{title.lower().replace(\" \", \"-\")}\")"
   ]
  },
  {
   "cell_type": "code",
   "execution_count": null,
   "id": "40feb1de-1090-4ca4-be70-80b485c45888",
   "metadata": {},
   "outputs": [],
   "source": [
    "idata_f7_is_sphincter = az.from_netcdf(\"../inferences/branchpoints/is_sphincter.nc\")\n",
    "idata_f7_is_bulb = az.from_netcdf(\"../inferences/branchpoints/is_bulb.nc\")"
   ]
  },
  {
   "cell_type": "code",
   "execution_count": null,
   "id": "bf2d4ddd-7047-4bc1-aa46-f859f295ad11",
   "metadata": {},
   "outputs": [],
   "source": [
    "ycol = \"is_sphincter\"\n",
    "idata = idata_f7_is_sphincter\n",
    "gcol = \"age\"\n",
    "msts = msts_f7_bpts\n",
    "\n",
    "yrep = idata.posterior_predictive[\"is_sphincter\"]\n",
    "\n",
    "for ycol, idata in [(\"is_sphincter\", idata_f7_is_sphincter), (\"is_bulb\", idata_f7_is_bulb)]:\n",
    "\n",
    "    qs = (\n",
    "        idata.posterior_predictive[ycol]\n",
    "        .to_dataframe()\n",
    "        .unstack([\"chain\", \"draw\"])\n",
    "        .set_index(msts.index)\n",
    "        .groupby(msts[gcol])\n",
    "        .mean()\n",
    "        .quantile([0.01, 0.99], axis=1)\n",
    "        .T\n",
    "        .add_prefix(\"q\")\n",
    "        .join(msts.groupby(gcol)[ycol].mean().rename(\"obs\"))\n",
    "    )\n",
    "    f, ax = plt.subplots()\n",
    "    x = np.linspace(0, 1, qs.shape[0])\n",
    "    \n",
    "    xlimlow, xlimhigh = ax.get_ylim()\n",
    "    xtickxs = np.linspace(xlimlow, xlimhigh, len(qs)+2)\n",
    "    xs = xtickxs[1:-1]\n",
    "    ax.set_xlim(xtickxs[0], xtickxs[-1])\n",
    "    for x, (label, subdf) in zip(xs, qs.groupby(gcol)):\n",
    "        ax.scatter(x, subdf[\"obs\"], label=f\"Obs ({gcol}: {label})\")\n",
    "    ax.vlines(xs, qs[\"q0.01\"], qs[\"q0.99\"], color=\"gainsboro\", zorder=0, label=\"model\")\n",
    "    ax.legend(frameon=False);\n",
    "    ax.set_xticks([]);\n",
    "    ax.set(ylabel=f\"Proportion {ycol[3:].capitalize()}\");\n",
    "    save_figure(f, f\"supporting-f7-ppc-{ycol}\")"
   ]
  }
 ],
 "metadata": {
  "kernelspec": {
   "display_name": "Python 3 (ipykernel)",
   "language": "python",
   "name": "python3"
  },
  "language_info": {
   "codemirror_mode": {
    "name": "ipython",
    "version": 3
   },
   "file_extension": ".py",
   "mimetype": "text/x-python",
   "name": "python",
   "nbconvert_exporter": "python",
   "pygments_lexer": "ipython3",
   "version": "3.13.2"
  }
 },
 "nbformat": 4,
 "nbformat_minor": 5
}
